{
  "nbformat": 4,
  "nbformat_minor": 0,
  "metadata": {
    "colab": {
      "name": "GaussianNB 2.0 (MinMax Scaled).ipynb",
      "provenance": [],
      "collapsed_sections": []
    },
    "kernelspec": {
      "name": "python3",
      "display_name": "Python 3"
    },
    "language_info": {
      "name": "python"
    }
  },
  "cells": [
    {
      "cell_type": "code",
      "metadata": {
        "id": "UrZzL082lKlD"
      },
      "source": [
        "from google.colab import drive\n",
        "drive.mount('/content/drive')"
      ],
      "execution_count": null,
      "outputs": []
    },
    {
      "cell_type": "code",
      "metadata": {
        "id": "qIVdvMOc0ueA"
      },
      "source": [
        "## Setting up the Data Set\n",
        "\n",
        "import numpy as np\n",
        "import pandas as pd\n",
        "from sklearn.preprocessing import MinMaxScaler\n",
        "import math\n",
        "\n",
        "originalDf = pd.read_csv('/content/drive/MyDrive/Notes/Final Year Project/datasets_14370_19291_pima-indians-diabetes.csv')\n",
        "\n",
        "originalDf.columns = ['preg', 'glu', 'BP', 'skinTh', 'insulin', 'BMI', 'diaPedFun', 'age', 'class']\n",
        "\n",
        "originalDf"
      ],
      "execution_count": null,
      "outputs": []
    },
    {
      "cell_type": "code",
      "metadata": {
        "id": "X55_duIqXfE2"
      },
      "source": [
        "# Number of diabetic data points\n",
        "\n",
        "Diabetic = originalDf[originalDf['class'] == 1]\n",
        "\n",
        "Diabetic.shape"
      ],
      "execution_count": null,
      "outputs": []
    },
    {
      "cell_type": "code",
      "metadata": {
        "id": "aGk1jB9lYhXO"
      },
      "source": [
        "# Number of Non diabetic data points\n",
        "\n",
        "Non_Diabetic = originalDf[originalDf['class'] == 0]\n",
        "\n",
        "Non_Diabetic.shape"
      ],
      "execution_count": null,
      "outputs": []
    },
    {
      "cell_type": "code",
      "metadata": {
        "id": "LbHGCFSWOCVx"
      },
      "source": [
        "## Setting up a copy of original dataFrame to work with\n",
        "\n",
        "dfCopy = originalDf.copy()\n",
        "\n",
        "del dfCopy['class']\n",
        "\n",
        "# build the scaler model\n",
        "scaler = MinMaxScaler()\n",
        "\n",
        "# fit using the train set\n",
        "scaler.fit(dfCopy)\n",
        "\n",
        "#transform the test test\n",
        "X_scaled = scaler.transform(dfCopy)\n",
        "\n",
        "df = pd.DataFrame(X_scaled)\n",
        "\n",
        "df.columns = ['preg',\t'glu',\t'BP',\t'skinTh',\t'insulin',\t'BMI',\t'diaPedFun',\t'age']\n",
        "\n",
        "testDf = df.copy()\n",
        "\n",
        "testDf = testDf[757:]    ## Need this ahead in cell 46, 47 \n",
        "\n",
        "# df = df[:757]\n",
        "\n",
        "df"
      ],
      "execution_count": null,
      "outputs": []
    },
    {
      "cell_type": "code",
      "metadata": {
        "id": "ChqJEjCwu2kv"
      },
      "source": [
        "# ## Removing last 10 typles\n",
        "\n",
        "# testDf = df.copy()\n",
        "\n",
        "# testDf = testDf[747:]\n",
        "\n",
        "# testDf"
      ],
      "execution_count": null,
      "outputs": []
    },
    {
      "cell_type": "code",
      "metadata": {
        "id": "SDTn8i23ONaL"
      },
      "source": [
        "## Function to calculate Eucledian Distance\n",
        "\n",
        "def dist(plist1, plist2):\n",
        "  return math.sqrt( (plist1[0] - plist2[0])**2 + (plist1[1] - plist2[1])**2 + (plist1[2] - plist2[2])**2 + (plist1[3] - plist2[3])**2 + (plist1[4] - plist2[4])**2 + (plist1[5] - plist2[5])**2 + (plist1[6] - plist2[6])**2 + (plist1[7] - plist2[7])**2)\n",
        "  "
      ],
      "execution_count": null,
      "outputs": []
    },
    {
      "cell_type": "code",
      "metadata": {
        "id": "tjGqRaTYOcYM"
      },
      "source": [
        "## To find Xmin data point ---> data point with minimumt distance from origin\n",
        "\n",
        "origin = pd.Series([0,0,0,0,0,0,0,0])\n",
        "\n",
        "rows, columns = df.shape\n",
        "\n",
        "df['dFromOrigin'] = 0   ## Adding attribute/Column 'dFromOrigin' to the dataframe\n",
        "\n",
        "for i in range (rows):\n",
        "  df['dFromOrigin'].iloc[i] = dist(origin, df.iloc[i])   ## Calculating Eucledian distance\n",
        "\n",
        "Xmin = df.dFromOrigin.min() ## Value of Xmin\n",
        "\n",
        "XminRow = df[df['dFromOrigin'] == df.dFromOrigin.min()]  ## Xmin data point (row)\n",
        "\n",
        "del XminRow['dFromOrigin']   ## Some waste management\n",
        "\n",
        "XminRow   ## Displaying Xmin data point"
      ],
      "execution_count": null,
      "outputs": []
    },
    {
      "cell_type": "code",
      "metadata": {
        "id": "lWjTyVWhPQCE"
      },
      "source": [
        "## To find Xmax data point   ----->   data point with maximum distance from Xmin data point\n",
        "\n",
        "df['dFromXmin'] = 0\n",
        "\n",
        "for i in range (rows):\n",
        "  df['dFromXmin'].iloc[i] = dist(XminRow.iloc[0], df.iloc[i])\n",
        "\n",
        "Xmax = df.dFromXmin.max()  ## Value of Xmax\n",
        "\n",
        "XmaxRow = df[df['dFromXmin'] == df.dFromXmin.max()]\n",
        "\n",
        "del XmaxRow['dFromOrigin']  ## Waste management\n",
        "del XmaxRow['dFromXmin']   ## Waste management\n",
        "\n",
        "XmaxRow"
      ],
      "execution_count": null,
      "outputs": []
    },
    {
      "cell_type": "code",
      "metadata": {
        "id": "dzF-frnFPVJO"
      },
      "source": [
        "## Distance of data points from Xmax data point \n",
        "\n",
        "df['dFromXmax'] = 0\n",
        "\n",
        "for i in range (rows):\n",
        "  df['dFromXmax'].iloc[i] = dist(XmaxRow.iloc[0], df.iloc[i])\n",
        "\n",
        "df.head(2)\n"
      ],
      "execution_count": null,
      "outputs": []
    },
    {
      "cell_type": "code",
      "metadata": {
        "id": "dE94prQ6Pe--"
      },
      "source": [
        "## locating point D\n",
        "\n",
        "dXminToXmax = dist(XminRow.iloc[0], XmaxRow.iloc[0])   ## Distance between Xmin and Xmax\n",
        "\n",
        "df['perimeter'] = df.dFromXmin + df.dFromXmax + dXminToXmax\n",
        "\n",
        "df"
      ],
      "execution_count": null,
      "outputs": []
    },
    {
      "cell_type": "code",
      "metadata": {
        "id": "upOsBXPxPjjR"
      },
      "source": [
        "## Max perimeter (D)\n",
        "\n",
        "periMax = df[df['perimeter'] == df['perimeter'].max()]\n",
        "\n",
        "del periMax['dFromOrigin']\n",
        "del periMax['dFromXmin']\n",
        "del periMax['dFromXmax']\n",
        "del periMax['perimeter']\n",
        "\n",
        "periMax"
      ],
      "execution_count": null,
      "outputs": []
    },
    {
      "cell_type": "code",
      "metadata": {
        "id": "ltoHeanjPovX"
      },
      "source": [
        "## Finding Xstr\n",
        "\n",
        "# XstrPrev = periMax.copy()\n",
        "# Xm=1\n",
        "\n",
        "# if dist(periMax.iloc[0], XminRow.iloc[0]) == dist(periMax.iloc[0], XmaxRow.iloc[0]):\n",
        "#   Xstr = XstrPrev\n",
        "# elif dist(periMax.iloc[0], XminRow.iloc[0]) < dist(periMax.iloc[0], XmaxRow.iloc[0]):\n",
        "#   Xstr = np.add( XstrPrev.iloc[0],  np.multiply( (np.divide( abs(np.subtract(XmaxRow.iloc[0],  XstrPrev.iloc[0])), 2)),  Xm))\n",
        "# else :\n",
        "#   Xstr = np.add(XstrPrev.iloc[0], np.multiply( (np.divide( abs(np.subtract(XstrPrev.iloc[0], XminRow.iloc[0])), 2)),  Xm))\n",
        "\n",
        "# Xstr\n",
        "\n",
        "# XstrRow = pd.DataFrame({\n",
        "    \n",
        "#   'preg' : [Xstr.preg],\n",
        "#   'glu' : [Xstr.glu],\n",
        "#   'BP' : [Xstr.BP],\n",
        "#   'skinTh' : [Xstr.skinTh],\n",
        "#   'insulin' : [Xstr.insulin],\n",
        "#   'BMI' : [Xstr.BMI],\n",
        "#   'diaPedFun' : [Xstr.diaPedFun],\n",
        "#   'age' : [Xstr.age],\n",
        "\n",
        "# })"
      ],
      "execution_count": null,
      "outputs": []
    },
    {
      "cell_type": "code",
      "metadata": {
        "id": "qKVxspJMQVkE"
      },
      "source": [
        "## Distance of data points from Xstr data point \n",
        "\n",
        "# df['dFromXstr'] = 0\n",
        "\n",
        "# for i in range (rows):\n",
        "#   df['dFromXstr'].iloc[i] = dist(XstrRow.iloc[0], df[['preg', 'glu', 'BP', 'skinTh', 'insulin', 'BMI', 'diaPedFun', 'age']].iloc[i])\n",
        "\n",
        "# df"
      ],
      "execution_count": null,
      "outputs": []
    },
    {
      "cell_type": "code",
      "metadata": {
        "id": "Iua8-TAVQnto"
      },
      "source": [
        "# ## Forming Clusters\n",
        "\n",
        "# df['cXmin'] = 0\n",
        "# df['cXmax'] = 0\n",
        "# # df['cXstr'] = 0\n",
        "\n",
        "# for i in range (rows):\n",
        "#   if ( (df.dFromXmin.iloc[i] < df.dFromXmax.iloc[i]) ) :\n",
        "#     df['cXmin'].iloc[i] = 1\n",
        "#   else : df['cXmax'].iloc[i] = 1\n",
        "#   # elif ( (df.dFromXstr.iloc[i] < df.dFromXmin.iloc[i]) and (df.dFromXstr.iloc[i] < df.dFromXmax.iloc[i]) ) :\n",
        "#   #   df['cXstr'].iloc[i] = 1\n",
        "\n",
        "#   # for i in range (rows):\n",
        "#   # if ( (df.dFromXmin.iloc[i] < df.dFromXmax.iloc[i]) and (df.dFromXmin.iloc[i] < df.dFromXstr.iloc[i]) ) :\n",
        "#   #   df['cXmin'].iloc[i] = 1\n",
        "#   # elif ( (df.dFromXmax.iloc[i] < df.dFromXmin.iloc[i]) and (df.dFromXmax.iloc[i] < df.dFromXstr.iloc[i]) ) :\n",
        "#   #   df['cXmax'].iloc[i] = 1\n",
        "#   # # elif ( (df.dFromXstr.iloc[i] < df.dFromXmin.iloc[i]) and (df.dFromXstr.iloc[i] < df.dFromXmax.iloc[i]) ) :\n",
        "#   # #   df['cXstr'].iloc[i] = 1\n",
        "\n",
        "# df"
      ],
      "execution_count": null,
      "outputs": []
    },
    {
      "cell_type": "code",
      "metadata": {
        "id": "sZMYhWAsrZsK"
      },
      "source": [
        "## Forming Clusters\n",
        "\n",
        "df['cluster'] = 0\n",
        "\n",
        "for i in range (rows):\n",
        "  if ( (df.dFromXmin.iloc[i] < df.dFromXmax.iloc[i]) ) :\n",
        "    df['cluster'].iloc[i] = 0\n",
        "  elif ( (df.dFromXmin.iloc[i] > df.dFromXmax.iloc[i]) ) :\n",
        "    df['cluster'].iloc[i] = 1\n",
        "\n",
        "df"
      ],
      "execution_count": null,
      "outputs": []
    },
    {
      "cell_type": "code",
      "metadata": {
        "id": "MTZssBVoQtEu"
      },
      "source": [
        "## Cluster cXmin\n",
        "\n",
        "df[df['cluster'] == 0]"
      ],
      "execution_count": null,
      "outputs": []
    },
    {
      "cell_type": "code",
      "metadata": {
        "id": "ZzWqQc2cQyVH"
      },
      "source": [
        "## Cluster cXmax\n",
        "\n",
        "df[df['cluster'] == 1]"
      ],
      "execution_count": null,
      "outputs": []
    },
    {
      "cell_type": "code",
      "metadata": {
        "id": "Xl-ayMcDohOb"
      },
      "source": [
        "tempDf = df.copy()\n",
        "\n",
        "tempDf.drop(['dFromOrigin','dFromXmin','dFromXmax','perimeter'], axis=1, inplace=True)\n",
        "\n",
        "tempDf"
      ],
      "execution_count": null,
      "outputs": []
    },
    {
      "cell_type": "code",
      "metadata": {
        "id": "VZKLtrvEo6dL"
      },
      "source": [
        "## Deleting wrongly clustered data points\n",
        "\n",
        "# originalDf['class'].iloc[i] != tempDf['cluster'].iloc[i]\n",
        "for i in range(rows):\n",
        "  if ( (originalDf.iloc[i, 8] != tempDf.iloc[i, 8])):\n",
        "    cleanedDf = tempDf.drop(labels=i, axis=0)\n"
      ],
      "execution_count": null,
      "outputs": []
    },
    {
      "cell_type": "code",
      "metadata": {
        "id": "2dM4EpK_MP38"
      },
      "source": [
        "cleanedDf"
      ],
      "execution_count": null,
      "outputs": []
    },
    {
      "cell_type": "code",
      "metadata": {
        "id": "a3lFOIkPNtQF"
      },
      "source": [
        "df"
      ],
      "execution_count": null,
      "outputs": []
    },
    {
      "cell_type": "code",
      "metadata": {
        "id": "QBL3_rlEQ1qf"
      },
      "source": [
        "df2 = df.copy()\n",
        "\n",
        "del df2['dFromOrigin']\n",
        "del df2['dFromXmin']\n",
        "del df2['dFromXmax']\n",
        "del df2['perimeter']\n",
        "\n",
        "\n",
        "inputs = df2.drop('cluster', axis=1)  # Whole dataset without the class label \n",
        "\n",
        "target = df2['cluster']  # Attribete/column name under which class labels will be added"
      ],
      "execution_count": null,
      "outputs": []
    },
    {
      "cell_type": "code",
      "metadata": {
        "id": "5ZDg34lxgDm7"
      },
      "source": [
        "# Splitting test and train datasets\n",
        "\n",
        "from sklearn.model_selection import train_test_split\n",
        "\n",
        "X_train, X_test, y_train, y_test = train_test_split(inputs, target, test_size=0.3, shuffle=False)\n",
        "\n",
        "# X_train  ---> Training data without class label\n",
        "# y_train  ---> Training class labels of X_train\n",
        "\n",
        "# X_test  ---> Testing data without class label\n",
        "# y_test  ---> Testing class labels of X_test"
      ],
      "execution_count": null,
      "outputs": []
    },
    {
      "cell_type": "code",
      "metadata": {
        "id": "eJLuQVADgImU"
      },
      "source": [
        "from sklearn.naive_bayes import GaussianNB\n",
        "\n",
        "model = GaussianNB()"
      ],
      "execution_count": null,
      "outputs": []
    },
    {
      "cell_type": "code",
      "metadata": {
        "id": "Cj3e0hHOgQFN"
      },
      "source": [
        "# Building the model\n",
        "\n",
        "model.fit(X_train, y_train)"
      ],
      "execution_count": null,
      "outputs": []
    },
    {
      "cell_type": "code",
      "metadata": {
        "id": "YKrGJIpIgWrA"
      },
      "source": [
        "# Model accuracy\n",
        "\n",
        "model.score(X_test,y_test)"
      ],
      "execution_count": null,
      "outputs": []
    },
    {
      "cell_type": "code",
      "metadata": {
        "id": "d_JJrNM-gXWD"
      },
      "source": [
        "X_test[0:10]   ## Selecting the first 10 data points from X_test out of 228"
      ],
      "execution_count": null,
      "outputs": []
    },
    {
      "cell_type": "code",
      "metadata": {
        "id": "aJpKc9oOgfTe"
      },
      "source": [
        "y_test[0:10]    ## Selecting the first 10 data points from y_test out of 228"
      ],
      "execution_count": null,
      "outputs": []
    },
    {
      "cell_type": "code",
      "metadata": {
        "id": "QZxNWZzUgiPy"
      },
      "source": [
        "## Performing classification ---> Predicts the class labels for given input data\n",
        "\n",
        "model.predict(X_test[0:10])\n",
        "\n",
        "# model.predict(testDf)"
      ],
      "execution_count": null,
      "outputs": []
    },
    {
      "cell_type": "code",
      "metadata": {
        "id": "xae7xnpZgmdV"
      },
      "source": [
        "# Probability estimates of the test data.\n",
        "\n",
        "model.predict_proba(X_test[:10])\n",
        "\n",
        "# model.predict_proba(testDf)"
      ],
      "execution_count": null,
      "outputs": []
    },
    {
      "cell_type": "code",
      "metadata": {
        "id": "JMx3EWwI3D-4"
      },
      "source": [
        "originalDf[757:]"
      ],
      "execution_count": null,
      "outputs": []
    }
  ]
}